{
 "cells": [
  {
   "cell_type": "code",
   "execution_count": null,
   "id": "e433d101",
   "metadata": {},
   "outputs": [],
   "source": [
    "import pandas as pd\n",
    "import numpy as np \n",
    "from rdkit import Chem\n",
    "from rdkit.Chem import Descriptors"
   ]
  },
  {
   "cell_type": "code",
   "execution_count": null,
   "id": "fe771cd7",
   "metadata": {},
   "outputs": [],
   "source": [
    "test = pd.read_csv('data/test.csv')\n",
    "train = pd.read_csv('data/train.csv')\n",
    "sample_submission = pd.read_csv('data/sample_submission.csv')"
   ]
  },
  {
   "cell_type": "code",
   "execution_count": null,
   "id": "ffab3674",
   "metadata": {},
   "outputs": [],
   "source": [
    "print('train shape:', train.shape)\n",
    "print('test shape:', test.shape)\n",
    "print('sample_submission shape:', sample_submission.shape)"
   ]
  },
  {
   "cell_type": "code",
   "execution_count": null,
   "id": "7e408c0e",
   "metadata": {},
   "outputs": [],
   "source": [
    "print('train columns:', train.columns)\n",
    "print('test columns:', test.columns)\n",
    "print('sample_submission columns:', sample_submission.columns)\n"
   ]
  },
  {
   "cell_type": "code",
   "execution_count": null,
   "id": "8b12dcb1",
   "metadata": {},
   "outputs": [],
   "source": [
    "train.isnull().sum().sort_values(ascending=False).head(20)\n"
   ]
  },
  {
   "cell_type": "code",
   "execution_count": null,
   "id": "0b2b4ee6",
   "metadata": {},
   "outputs": [],
   "source": [
    "test.isnull().sum().sort_values(ascending=False).head(20)"
   ]
  },
  {
   "cell_type": "code",
   "execution_count": null,
   "id": "4ed63b01",
   "metadata": {},
   "outputs": [],
   "source": [
    "train.dropna(inplace=True)\n",
    "print('train shape after dropping NaNs:', train.shape)"
   ]
  },
  {
   "cell_type": "code",
   "execution_count": null,
   "id": "da8790d9",
   "metadata": {},
   "outputs": [],
   "source": [
    "\n",
    "\n",
    "def featurize(smiles):\n",
    "    mol = Chem.MolFromSmiles(smiles.replace(\"*\", \"H\"))  # Replace wildcards\n",
    "    if mol is None:\n",
    "        return [np.nan]*5\n",
    "    return [\n",
    "        Descriptors.MolWt(mol),\n",
    "        Descriptors.NumValenceElectrons(mol),\n",
    "        Descriptors.TPSA(mol),\n",
    "        Descriptors.MolLogP(mol),\n",
    "        Descriptors.NumRotatableBonds(mol),\n",
    "    ]\n",
    "\n",
    "train[['MolWt', 'ValenceElectrons', 'TPSA', 'LogP', 'RotBonds']] = train['SMILES'].apply(lambda x: pd.Series(featurize(x)))\n"
   ]
  },
  {
   "cell_type": "code",
   "execution_count": null,
   "id": "f1222c00",
   "metadata": {},
   "outputs": [],
   "source": [
    "ffv_data = train[train['FFV'].notnull()].copy()"
   ]
  },
  {
   "cell_type": "code",
   "execution_count": null,
   "id": "1dc8c587",
   "metadata": {},
   "outputs": [],
   "source": [
    "ffv_data"
   ]
  }
 ],
 "metadata": {
  "kernelspec": {
   "display_name": "3.11.2",
   "language": "python",
   "name": "python3"
  },
  "language_info": {
   "codemirror_mode": {
    "name": "ipython",
    "version": 3
   },
   "file_extension": ".py",
   "mimetype": "text/x-python",
   "name": "python",
   "nbconvert_exporter": "python",
   "pygments_lexer": "ipython3",
   "version": "3.11.2"
  }
 },
 "nbformat": 4,
 "nbformat_minor": 5
}
